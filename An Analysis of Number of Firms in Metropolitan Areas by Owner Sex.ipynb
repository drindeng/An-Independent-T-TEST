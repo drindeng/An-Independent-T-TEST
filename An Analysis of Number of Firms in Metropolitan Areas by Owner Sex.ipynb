{
 "cells": [
  {
   "cell_type": "markdown",
   "id": "23be9e14",
   "metadata": {},
   "source": [
    "# An Analysis of Number of Firms in Metropolitan Areas by Owner Sex"
   ]
  },
  {
   "cell_type": "markdown",
   "id": "31ce6136",
   "metadata": {},
   "source": [
    "In this study, firm ownership in 101 metropolitan cities with more than 50,000 firms in the USA was analyzed by gender."
   ]
  },
  {
   "cell_type": "markdown",
   "id": "cc7bef37",
   "metadata": {},
   "source": [
    "DATA=\n",
    "\n",
    "“Firms by Metropolitan Statistical Area (MSA) and Owner Sex for MSAs with more than 50,000 Firms.”\n",
    "\n",
    "https://data.sba.gov/en/dataset/total-number-of-firms-employer-nonemployer-by-owner-sex-2017.\n"
   ]
  },
  {
   "cell_type": "code",
   "execution_count": null,
   "id": "0b4650a4",
   "metadata": {},
   "outputs": [],
   "source": []
  },
  {
   "cell_type": "markdown",
   "id": "a8d151f9",
   "metadata": {},
   "source": [
    "### Null hypothesis (H0):  \n",
    "There is no significant difference between groups.\n",
    "\n",
    "### Alternative hypothesis (Ha):\n",
    "There is a significant difference between groups.\n"
   ]
  },
  {
   "cell_type": "code",
   "execution_count": null,
   "id": "fd9b79fa",
   "metadata": {},
   "outputs": [],
   "source": []
  },
  {
   "cell_type": "markdown",
   "id": "653d2af2",
   "metadata": {},
   "source": [
    "An important decision point when working with a sample of data is whether to use parametric or non-parametric statistical methods.\n",
    "\n",
    "Parametric statistical methods assume that the data has a known and specific distribution, often a Gaussian distribution. \n",
    "\n",
    "If a data sample is not Gaussian, then the assumptions of parametric statistical tests are violated and nonparametric statistical methods must be used."
   ]
  },
  {
   "cell_type": "code",
   "execution_count": null,
   "id": "c8955a89",
   "metadata": {},
   "outputs": [],
   "source": []
  },
  {
   "cell_type": "markdown",
   "id": "8ec8a0b4",
   "metadata": {},
   "source": [
    "There are a range of techniques that you can use to check if your data sample deviates from a Gaussian distribution, called normality tests. So, first I will test whether the data sample is normally distributed."
   ]
  },
  {
   "cell_type": "markdown",
   "id": "d9fdecfc",
   "metadata": {},
   "source": [
    "#### H0:  Sample looks Gaussian\n",
    "#### Ha:  Sample does not look Gaussian\n"
   ]
  },
  {
   "cell_type": "markdown",
   "id": "eb7a0cbe",
   "metadata": {},
   "source": [
    "There are many statistical tests that we can use to quantify whether a sample of data looks as though it was drawn from a Gaussian distribution. \n",
    "\n",
    "\n",
    "Shapiro-Wilk test in Python was used for checking normality. \n"
   ]
  },
  {
   "cell_type": "markdown",
   "id": "6c05e5a9",
   "metadata": {},
   "source": [
    "# Checking Normality"
   ]
  },
  {
   "cell_type": "markdown",
   "id": "589b99d0",
   "metadata": {},
   "source": [
    "## Importing Libraries"
   ]
  },
  {
   "cell_type": "code",
   "execution_count": 1,
   "id": "6869a945",
   "metadata": {
    "scrolled": true
   },
   "outputs": [],
   "source": [
    "import pandas as pd\n",
    "import scipy.stats as stats\n",
    "import matplotlib.pyplot as plt"
   ]
  },
  {
   "cell_type": "markdown",
   "id": "c1f573eb",
   "metadata": {},
   "source": [
    "## Importing Data"
   ]
  },
  {
   "cell_type": "markdown",
   "id": "bc7b2034",
   "metadata": {},
   "source": [
    "First of all, i tested whether data is normally distributed or not.\n",
    "\n",
    "Data was rearrange suitable for the test and saved in a different excel file."
   ]
  },
  {
   "cell_type": "code",
   "execution_count": 2,
   "id": "63efd3df",
   "metadata": {
    "scrolled": true
   },
   "outputs": [
    {
     "name": "stdout",
     "output_type": "stream",
     "text": [
      "<class 'pandas.core.frame.DataFrame'>\n",
      "RangeIndex: 202 entries, 0 to 201\n",
      "Data columns (total 3 columns):\n",
      " #   Column          Non-Null Count  Dtype \n",
      "---  ------          --------------  ----- \n",
      " 0   sex             202 non-null    object\n",
      " 1   metro           202 non-null    int64 \n",
      " 2   number_of_firm  202 non-null    int64 \n",
      "dtypes: int64(2), object(1)\n",
      "memory usage: 4.9+ KB\n"
     ]
    }
   ],
   "source": [
    "file = 'dataPYTHON.xlsx'\n",
    "df = pd.read_excel(file)\n",
    "df.info()"
   ]
  },
  {
   "cell_type": "markdown",
   "id": "f28f089b",
   "metadata": {},
   "source": [
    "The Shapiro() SciPy function calculated the Shapiro-Wilk on the given dataset."
   ]
  },
  {
   "cell_type": "code",
   "execution_count": 3,
   "id": "ad30d129",
   "metadata": {},
   "outputs": [
    {
     "data": {
      "text/plain": [
       "ShapiroResult(statistic=0.4463263750076294, pvalue=9.273221580769637e-18)"
      ]
     },
     "execution_count": 3,
     "metadata": {},
     "output_type": "execute_result"
    }
   ],
   "source": [
    "#ARE POPULATION DISTRIBUTIONS NORMAL???\n",
    "\n",
    "sampling_difference = df['number_of_firm'][df['sex'] == 'female'].values - \\\n",
    "                      df['number_of_firm'][df['sex'] == 'male'].values\n",
    "\n",
    "stats.shapiro(sampling_difference)"
   ]
  },
  {
   "cell_type": "code",
   "execution_count": 4,
   "id": "a358a081",
   "metadata": {},
   "outputs": [
    {
     "name": "stdout",
     "output_type": "stream",
     "text": [
      "Statistic=0.4463, p=0.0000\n",
      "Sample does not look Gaussian (reject H0)\n"
     ]
    }
   ],
   "source": [
    "from scipy.stats import shapiro\n",
    "stat, p = shapiro(sampling_difference)\n",
    "print('Statistic=%.4f, p=%.4f' % (stat, p))\n",
    "\n",
    "alpha = 0.05\n",
    "if p > alpha:\n",
    "    print('Sample looks Gaussian (fail to reject H0)')\n",
    "else:\n",
    "    print('Sample does not look Gaussian (reject H0)')"
   ]
  },
  {
   "cell_type": "markdown",
   "id": "20af570d",
   "metadata": {},
   "source": [
    "The function returned both the W-statistic calculated by the test and the p-value.\n",
    "\n",
    "The null hypothesis was rejected because the p-value was less than the alpha value. So our data sample does NOT look normal distribution."
   ]
  },
  {
   "cell_type": "code",
   "execution_count": null,
   "id": "6c70b7dc",
   "metadata": {},
   "outputs": [],
   "source": []
  },
  {
   "cell_type": "markdown",
   "id": "d1214b6b",
   "metadata": {},
   "source": [
    "One method of visually checking the distribution is to use a probability plot with or without the correlation value, to assess the correlation of the observed values with the theoretical distribution in question - in the current case it would not be the Gaussian distribution.\n",
    "\n",
    "probplot() method from Scipy.stats was used."
   ]
  },
  {
   "cell_type": "code",
   "execution_count": 5,
   "id": "f220f603",
   "metadata": {},
   "outputs": [
    {
     "data": {
      "image/png": "[encoded data removed]",
      "text/plain": [
       "<Figure size 1440x720 with 1 Axes>"
      ]
     },
     "metadata": {
      "needs_background": "light"
     },
     "output_type": "display_data"
    }
   ],
   "source": [
    "fig = plt.figure(figsize= (20, 10))\n",
    "ax = fig.add_subplot(111)\n",
    "\n",
    "normality_plot, stat = stats.probplot(sampling_difference, plot= plt, rvalue= True)\n",
    "ax.set_title(\"Probability plot of sampling difference\", fontsize= 20)\n",
    "ax.set\n",
    "\n",
    "plt.show()"
   ]
  },
  {
   "cell_type": "code",
   "execution_count": null,
   "id": "bd9a4f2c",
   "metadata": {},
   "outputs": [],
   "source": []
  },
  {
   "cell_type": "markdown",
   "id": "1b4bc3a3",
   "metadata": {},
   "source": [
    "As I mentioned before, If a data sample is Gaussian, then we can use parametric statistical methods.\n",
    "\n",
    "However, If a data sample is not Gaussian, then the assumptions of parametric statistical tests are violated and nonparametric statistical methods must be used."
   ]
  },
  {
   "cell_type": "markdown",
   "id": "2154d99d",
   "metadata": {},
   "source": [
    "# Non-parametric Statistical Method"
   ]
  },
  {
   "cell_type": "markdown",
   "id": "8ab23dac",
   "metadata": {},
   "source": [
    "As seen above, my data sample is not Gaussian. So, the Mann-Whitney U test,  one of the non-parametric statistical methods, was used in this study."
   ]
  },
  {
   "cell_type": "markdown",
   "id": "dbd3f0b9",
   "metadata": {},
   "source": [
    "Again, data was made suitable for the test and saved in a different excel file."
   ]
  },
  {
   "cell_type": "code",
   "execution_count": 6,
   "id": "b0f71090",
   "metadata": {},
   "outputs": [
    {
     "name": "stdout",
     "output_type": "stream",
     "text": [
      "<class 'pandas.core.frame.DataFrame'>\n",
      "RangeIndex: 101 entries, 0 to 100\n",
      "Data columns (total 2 columns):\n",
      " #   Column  Non-Null Count  Dtype\n",
      "---  ------  --------------  -----\n",
      " 0   female  101 non-null    int64\n",
      " 1   male    101 non-null    int64\n",
      "dtypes: int64(2)\n",
      "memory usage: 1.7 KB\n"
     ]
    }
   ],
   "source": [
    "file = 'dataPYTHON_Mann.xlsx'\n",
    "df2 = pd.read_excel(file)\n",
    "df2.info()"
   ]
  },
  {
   "cell_type": "code",
   "execution_count": 7,
   "id": "882ac426",
   "metadata": {},
   "outputs": [
    {
     "name": "stdout",
     "output_type": "stream",
     "text": [
      "Statistics=3496.00, p=0.00011282\n",
      "Reject Null Hypothesis (Significant difference between two samples)\n"
     ]
    }
   ],
   "source": [
    "# code for Mann-Whitney U test\n",
    "from scipy.stats import mannwhitneyu\n",
    "# perform mann whitney test\n",
    "stat, p_value = mannwhitneyu(df2['female'], df2['male'])\n",
    "print('Statistics=%.2f, p=%.8f' % (stat, p_value))\n",
    "# Level of significance\n",
    "alpha = 0.05\n",
    "# conclusion\n",
    "if p_value < alpha:\n",
    "    print('Reject Null Hypothesis (Significant difference between two samples)')\n",
    "else:\n",
    "    print('Do not Reject Null Hypothesis (No significant difference between two samples)')"
   ]
  },
  {
   "cell_type": "markdown",
   "id": "1239220f",
   "metadata": {},
   "source": [
    "The null hypothesis was rejected again because the p-value was less than the alpha value. \n",
    "\n",
    "\n",
    "###### Null hypothesis (H0):  \n",
    "There is no significant difference between groups.\n",
    "###### Alternative hypothesis (Ha):\n",
    "There is a significant difference between groups.\n",
    "\n",
    "\n",
    "It means that significant difference between female and male owner samples."
   ]
  },
  {
   "cell_type": "markdown",
   "id": "c6996a7f",
   "metadata": {},
   "source": [
    "##### According to the analysis, there is a significant difference in the number of firms in metropolitan areas in terms of the gender of the firm owners."
   ]
  }
 ],
 "metadata": {
  "kernelspec": {
   "display_name": "Python 3 (ipykernel)",
   "language": "python",
   "name": "python3"
  },
  "language_info": {
   "codemirror_mode": {
    "name": "ipython",
    "version": 3
   },
   "file_extension": ".py",
   "mimetype": "text/x-python",
   "name": "python",
   "nbconvert_exporter": "python",
   "pygments_lexer": "ipython3",
   "version": "3.9.12"
  }
 },
 "nbformat": 4,
 "nbformat_minor": 5
}
